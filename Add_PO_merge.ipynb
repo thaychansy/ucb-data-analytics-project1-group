{
 "cells": [
  {
   "cell_type": "code",
   "execution_count": 72,
   "metadata": {},
   "outputs": [],
   "source": [
    "# Libraries to help with reading and manipulating data\n",
    "import numpy as np\n",
    "import pandas as pd\n",
    "import requests\n",
    "from pathlib import Path\n",
    "\n",
    "# Libraries to help with data visualization\n",
    "import matplotlib.pyplot as plt\n",
    "from scipy.stats import linregress"
   ]
  },
  {
   "cell_type": "code",
   "execution_count": 73,
   "metadata": {},
   "outputs": [
    {
     "name": "stdout",
     "output_type": "stream",
     "text": [
      "               Team       Week  PW_win_pct  Weekly_Win%  Cum_Win%\n",
      "0    Boston Celtics 2024-01-07       1.000        0.667     0.800\n",
      "1    Boston Celtics 2024-01-14       0.667        0.500     0.769\n",
      "2    Boston Celtics 2024-01-21       0.500        0.750     0.767\n",
      "3    Boston Celtics 2024-01-28       0.750        0.667     0.761\n",
      "4    Boston Celtics 2024-02-04       0.667        0.750     0.760\n",
      "..              ...        ...         ...          ...       ...\n",
      "70  New York Knicks 2024-03-17       0.333        1.000     0.597\n",
      "71  New York Knicks 2024-03-24       1.000        0.667     0.600\n",
      "72  New York Knicks 2024-03-31       0.667        0.500     0.595\n",
      "73  New York Knicks 2024-04-07       0.500        0.500     0.590\n",
      "74  New York Knicks 2024-04-14       0.500        1.000     0.610\n",
      "\n",
      "[75 rows x 5 columns]\n"
     ]
    }
   ],
   "source": [
    "# Import Weekly record and NBA playoff team performance data files\n",
    "season_record_path = \"data/team_weekly_stats.csv\"\n",
    "\n",
    "team_record_data = pd.read_csv(season_record_path)\n",
    "\n",
    "# Read the CSV into a Pandas DataFrame\n",
    "team_recordsDF = pd.DataFrame(team_record_data)\n",
    "team_recordsDF = team_recordsDF.rename(columns={'TEAM': 'Team'})\n",
    "\n",
    "team_recordsDF[\"Week\"] = pd.to_datetime(team_recordsDF[\"Week\"])\n",
    "\n",
    "print(team_recordsDF)"
   ]
  },
  {
   "cell_type": "code",
   "execution_count": 74,
   "metadata": {},
   "outputs": [
    {
     "name": "stdout",
     "output_type": "stream",
     "text": [
      "                      Team       Week       Date  Round\n",
      "9           Boston Celtics 2024-04-21 2024-04-21    1.0\n",
      "10          Boston Celtics 2024-04-28 2024-04-24    1.0\n",
      "50          Boston Celtics 2024-05-05 2024-04-29    1.0\n",
      "0           Boston Celtics 2024-05-12 2024-05-07    2.0\n",
      "13          Boston Celtics 2024-05-19 2024-05-13    2.0\n",
      "7           Boston Celtics 2024-05-26 2024-05-21    3.0\n",
      "40          Boston Celtics 2024-06-02 2024-05-27    3.0\n",
      "4           Boston Celtics 2024-06-09 2024-06-06    4.0\n",
      "14          Boston Celtics 2024-06-16 2024-06-12    4.0\n",
      "44        Dallas Mavericks 2024-04-21 2024-04-21    1.0\n",
      "45        Dallas Mavericks 2024-04-28 2024-04-23    1.0\n",
      "46        Dallas Mavericks 2024-05-05 2024-05-01    1.0\n",
      "72        Dallas Mavericks 2024-05-12 2024-05-07    2.0\n",
      "26        Dallas Mavericks 2024-05-19 2024-05-13    2.0\n",
      "51        Dallas Mavericks 2024-05-26 2024-05-22    3.0\n",
      "24        Dallas Mavericks 2024-06-02 2024-05-28    3.0\n",
      "3         Dallas Mavericks 2024-06-09 2024-06-06    4.0\n",
      "15        Dallas Mavericks 2024-06-16 2024-06-12    4.0\n",
      "28          Denver Nuggets 2024-04-21 2024-04-20    1.0\n",
      "29          Denver Nuggets 2024-04-28 2024-04-22    1.0\n",
      "30          Denver Nuggets 2024-05-05 2024-04-29    1.0\n",
      "34          Denver Nuggets 2024-05-12 2024-05-06    2.0\n",
      "36          Denver Nuggets 2024-05-19 2024-05-14    2.0\n",
      "63  Minnesota Timberwolves 2024-04-21 2024-04-20    1.0\n",
      "64  Minnesota Timberwolves 2024-04-28 2024-04-23    1.0\n",
      "31  Minnesota Timberwolves 2024-05-05 2024-05-04    1.0\n",
      "33  Minnesota Timberwolves 2024-05-12 2024-05-06    2.0\n",
      "35  Minnesota Timberwolves 2024-05-19 2024-05-14    2.0\n",
      "52  Minnesota Timberwolves 2024-05-26 2024-05-22    3.0\n",
      "23  Minnesota Timberwolves 2024-06-02 2024-05-28    3.0\n",
      "69         New York Knicks 2024-04-21 2024-04-20    1.0\n",
      "70         New York Knicks 2024-04-28 2024-04-22    1.0\n",
      "71         New York Knicks 2024-05-05 2024-04-30    1.0\n",
      "66         New York Knicks 2024-05-12 2024-05-08    2.0\n",
      "67         New York Knicks 2024-05-19 2024-05-14    2.0\n"
     ]
    }
   ],
   "source": [
    "# Import Weekly record and NBA playoff team performance data files\n",
    "playoff_records_path = \"data/NBA Playoff records.csv\"\n",
    "\n",
    "playoff_records_data = pd.read_csv(playoff_records_path)\n",
    "\n",
    "# Read the CSV into a Pandas DataFrame\n",
    "playoff_recordsDF = pd.DataFrame(playoff_records_data)\n",
    "playoff_recordsDF.drop(columns=['Attend.','Unnamed: 7','Unnamed: 6','PTS.1','PTS','Arena','Start (ET)'],axis=1,inplace=True)\n",
    "\n",
    "# Convert the \"Date\" column to datetime format\n",
    "playoff_recordsDF[\"Date\"] = pd.to_datetime(playoff_recordsDF[\"Date\"], format=\"%a %b %d %Y\")\n",
    "# Get the week ending (on a Sunday) for each date to align with the Google search data\n",
    "playoff_recordsDF['Week'] = playoff_recordsDF['Date'] + pd.to_timedelta(6 - playoff_recordsDF['Date'].dt.dayofweek, unit='D')\n",
    "\n",
    "playoff_recordsDF = playoff_recordsDF.rename(columns={'Visitor/Neutral': 'Visitor', 'Home/Neutral': 'Home', 'Notes': 'Round'})\n",
    "playoff_recordsDF = playoff_recordsDF.sort_values(by=['Home', 'Visitor'])\n",
    "\n",
    "#Create the list of teams for filtering the playoff data\n",
    "searched_teams = {\"Boston Celtics\", \"Dallas Mavericks\", \"Denver Nuggets\", \"Minnesota Timberwolves\", \"New York Knicks\"}\n",
    "\n",
    "# Create a list to store the data for each row\n",
    "new_data = []\n",
    "\n",
    "# Loop through the DataFrame and add rows to the list for each team found\n",
    "for index, row in playoff_recordsDF.iterrows():\n",
    "    if row['Visitor'] in searched_teams:\n",
    "        new_data.append({'Date': row['Date'], 'Round': row['Round'], 'Team': row['Visitor'], 'Week': row['Week']})\n",
    "    if row['Home'] in searched_teams:\n",
    "        new_data.append({'Date': row['Date'], 'Round': row['Round'], 'Team': row['Home'], 'Week': row['Week']})\n",
    "\n",
    "# Convert the list of data to a new DataFrame\n",
    "new_df = pd.DataFrame(new_data, columns=['Team','Week','Date', 'Round'])\n",
    "new_df = new_df.sort_values(by=['Team', 'Week', 'Date'])\n",
    "\n",
    "new_df\n",
    "\n",
    "filtered_df = pd.DataFrame(new_df)\n",
    "\n",
    "# Convert 'Week' to datetime for sorting\n",
    "#df['Week'] = pd.to_datetime(df['Week'])\n",
    "\n",
    "# Group by 'Week' and 'TEAM', and keep only the row with the highest 'Round' value\n",
    "filtered_df = new_df.loc[new_df.groupby(['Week', 'Team'])['Round'].idxmax()]\n",
    "\n",
    "# Reset index\n",
    "#filtered_df.reset_index(drop=True, inplace=True)\n",
    "filtered_df=filtered_df.sort_values(by=['Team','Week','Round'])\n",
    "print(filtered_df)\n",
    "\n",
    "#print(playoff_recordsDF)"
   ]
  },
  {
   "cell_type": "code",
   "execution_count": 75,
   "metadata": {},
   "outputs": [
    {
     "name": "stdout",
     "output_type": "stream",
     "text": [
      "                Team       Week  PW_win_pct  Weekly_Win%  Cum_Win%       Date  \\\n",
      "0     Boston Celtics 2024-01-07       1.000        0.667     0.800        NaT   \n",
      "1     Boston Celtics 2024-01-14       0.667        0.500     0.769        NaT   \n",
      "2     Boston Celtics 2024-01-21       0.500        0.750     0.767        NaT   \n",
      "3     Boston Celtics 2024-01-28       0.750        0.667     0.761        NaT   \n",
      "4     Boston Celtics 2024-02-04       0.667        0.750     0.760        NaT   \n",
      "..               ...        ...         ...          ...       ...        ...   \n",
      "105  New York Knicks 2024-04-21         NaN          NaN       NaN 2024-04-20   \n",
      "106  New York Knicks 2024-04-28         NaN          NaN       NaN 2024-04-22   \n",
      "107  New York Knicks 2024-05-05         NaN          NaN       NaN 2024-04-30   \n",
      "108  New York Knicks 2024-05-12         NaN          NaN       NaN 2024-05-08   \n",
      "109  New York Knicks 2024-05-19         NaN          NaN       NaN 2024-05-14   \n",
      "\n",
      "     Round  \n",
      "0      NaN  \n",
      "1      NaN  \n",
      "2      NaN  \n",
      "3      NaN  \n",
      "4      NaN  \n",
      "..     ...  \n",
      "105    1.0  \n",
      "106    1.0  \n",
      "107    1.0  \n",
      "108    2.0  \n",
      "109    2.0  \n",
      "\n",
      "[110 rows x 7 columns]\n"
     ]
    }
   ],
   "source": [
    "# Read in the CSV files into DataFrames\n",
    "\n",
    "# Perform an inner merge on 'Team' and 'Week' columns\n",
    "merged_df = pd.merge(team_recordsDF, filtered_df, on=['Team', 'Week'], how='outer')\n",
    "\n",
    "print(merged_df)"
   ]
  },
  {
   "cell_type": "code",
   "execution_count": 85,
   "metadata": {},
   "outputs": [],
   "source": [
    "import csv\n",
    "\n",
    "# Define the output file path\n",
    "output_file = \"data/teams_playoffs.csv\"\n",
    "\n",
    "# Define the header for the CSV file\n",
    "header = [\"Team\", \"Week\", \"PW_win_pct\",\"Weekly_win_pct\",\"Cum_win_pct\",\"Round\"]\n",
    "\n",
    "# Open the output file and write the header\n",
    "with open(output_file, \"w\", newline='') as datafile:\n",
    "    writer = csv.writer(datafile)\n",
    "    writer.writerow(header)\n",
    "\n",
    "    # Iterate through the rows of the DataFrame and write each row to the CSV file\n",
    "    for index, row in merged_df.iterrows():\n",
    "        Team = row[\"Team\"]\n",
    "        Week = row[\"Week\"]\n",
    "        #Week = pd.to_datetime(row[\"Week\"], format=\"%a %b %d %Y\").strftime(\"%Y-%m-%d\")\n",
    "        #Week = pd.to_datetime(row[\"Week\"], format=\"%a %b %d %Y\")\n",
    "        #row[\"Week\"]+ pd.to_timedelta(6 - playoff_recordsDF['Date'].dt.dayofweek, unit='D')\n",
    "        PW_win_pct = row[\"PW_win_pct\"]\n",
    "        Weekly_win_pct = row[\"Weekly_Win%\"]\n",
    "        Cum_win_pct = row[\"Cum_Win%\"]\n",
    "        Round = row[\"Round\"]\n",
    "        data_row = [Team, Week, PW_win_pct, Weekly_win_pct, Cum_win_pct, Round]\n",
    "        writer.writerow(data_row)"
   ]
  },
  {
   "cell_type": "code",
   "execution_count": null,
   "metadata": {},
   "outputs": [],
   "source": [
    " "
   ]
  }
 ],
 "metadata": {
  "kernelspec": {
   "display_name": "dev",
   "language": "python",
   "name": "python3"
  },
  "language_info": {
   "codemirror_mode": {
    "name": "ipython",
    "version": 3
   },
   "file_extension": ".py",
   "mimetype": "text/x-python",
   "name": "python",
   "nbconvert_exporter": "python",
   "pygments_lexer": "ipython3",
   "version": "3.10.14"
  }
 },
 "nbformat": 4,
 "nbformat_minor": 2
}
