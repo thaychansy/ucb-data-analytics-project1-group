{
 "cells": [
  {
   "cell_type": "markdown",
   "metadata": {},
   "source": [
    "<center><p float=\"center\">\n",
    "  <img src=\"https://upload.wikimedia.org/wikipedia/commons/6/69/Netflix_logo.svg\"400\" height=\"200\"/>\n",
    "</p></center>\n",
    "\n",
    "<h1><center><font size=10>Netflix Userbase Dataset</center></font></h1>\n",
    "<h1><center>Exploratory Data Analysis - Netflix Viewership Case Study</center></h1>\n"
   ]
  },
  {
   "cell_type": "markdown",
   "metadata": {},
   "source": [
    "<p>This data analysis delves into Netflix viewership patterns across various global regions. By examining this data, we aim to uncover insights into:\n",
    "</p>\n",
    "<ol>\n",
    "    <li>\n",
    "        <p>Understand Viewership Base/Regional Preferences: Identify content genres, languages, or formats that resonate most strongly with audiences in different parts of the world.</p>\n",
    "    </li>\n",
    "    <li>\n",
    "        <p>Subscription Trends: Analyze subscriber base distribution and growth patterns across regions.</p>\n",
    "    </li>\n",
    "    <li>\n",
    "        <p>Regional Preferences: Identify content genres, languages, or formats that resonate most strongly with audiences in different parts of the world.</p>\n",
    "    </li>\n",
    "    <li>\n",
    "        <p>Content Consumption Habits: Understand variations in viewing behavior, such as average watch time or preferred device usage, across geographic locations.</p>\n",
    "    </li>\n",
    "</ol>"
   ]
  },
  {
   "cell_type": "code",
   "execution_count": null,
   "metadata": {},
   "outputs": [],
   "source": [
    "# Libraries to help with reading and manipulating data\n",
    "import numpy as np\n",
    "import pandas as pd\n",
    "\n",
    "# Libraries to help with data visualization\n",
    "import seaborn as sns\n",
    "import matplotlib.pyplot as plt"
   ]
  }
 ],
 "metadata": {
  "language_info": {
   "name": "python"
  }
 },
 "nbformat": 4,
 "nbformat_minor": 2
}
